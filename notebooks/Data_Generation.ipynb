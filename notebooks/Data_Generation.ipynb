{
 "cells": [
  {
   "cell_type": "code",
   "id": "initial_id",
   "metadata": {
    "collapsed": true,
    "ExecuteTime": {
     "end_time": "2025-06-05T14:10:47.663248Z",
     "start_time": "2025-06-05T14:10:47.658180Z"
    }
   },
   "source": [
    "import pandas as pd\n",
    "import numpy as np\n",
    "import datetime\n",
    "from faker import Faker\n",
    "import uuid\n",
    "\n",
    "# Set seeds for reproducibility\n",
    "np.random.seed(42)\n",
    "Faker.seed(42)\n",
    "fake = Faker()\n",
    "\n",
    "# Number of records for each table\n",
    "NUM_USERS = 1000\n",
    "NUM_QUESTIONS = 1000\n",
    "NUM_ANSWERS = 1000\n",
    "NUM_SESSIONS = 1000"
   ],
   "outputs": [],
   "execution_count": 15
  },
  {
   "metadata": {
    "ExecuteTime": {
     "end_time": "2025-06-05T13:54:51.747404Z",
     "start_time": "2025-06-05T13:54:51.673505Z"
    }
   },
   "cell_type": "code",
   "source": [
    "def name_to_email(name):\n",
    "    parts = name.lower().replace(\"'\", \"\").replace(\".\", \"\").split()\n",
    "    username = \".\".join(parts)\n",
    "    return f\"{username}@example.com\"\n",
    "\n",
    "user_ids = np.arange(1, NUM_USERS + 1)\n",
    "user_names = [fake.name() for _ in user_ids]\n",
    "user_emails = [name_to_email(name) for name in user_names]\n",
    "\n",
    "# Generate birthdays for ages between 18 and 65\n",
    "today = datetime.date.today()\n",
    "birthdays = [fake.date_of_birth(minimum_age=18, maximum_age=65) for _ in user_ids]\n",
    "\n",
    "users_df = pd.DataFrame({\n",
    "    'id': user_ids,\n",
    "    'name': user_names,\n",
    "    'email': user_emails,\n",
    "    'birthday': birthdays\n",
    "})\n",
    "\n",
    "users_df.to_csv('../Mock_Data/mock_users.csv', index=False)"
   ],
   "id": "22fae3433a39337e",
   "outputs": [],
   "execution_count": 6
  },
  {
   "metadata": {
    "ExecuteTime": {
     "end_time": "2025-06-05T13:58:01.713586Z",
     "start_time": "2025-06-05T13:58:01.693728Z"
    }
   },
   "cell_type": "code",
   "source": [
    "# Define time range for question creation\n",
    "q_start_ts = int(datetime.datetime(2024, 1, 1).timestamp())\n",
    "q_end_ts   = int(datetime.datetime(2024, 12, 31, 23, 59, 59).timestamp())\n",
    "\n",
    "question_ids = np.arange(1, NUM_QUESTIONS + 1)\n",
    "question_user_ids = np.random.randint(1, NUM_USERS + 1, size=NUM_QUESTIONS)\n",
    "\n",
    "# Random timestamps (in seconds since epoch)\n",
    "random_q_ts = np.random.randint(q_start_ts, q_end_ts + 1, size=NUM_QUESTIONS)\n",
    "question_created_at = pd.to_datetime(random_q_ts, unit='s')\n",
    "\n",
    "# Generate fake question content (short but realistic)\n",
    "question_texts = [fake.sentence(nb_words=np.random.randint(5, 12)) + \"?\" for _ in range(NUM_QUESTIONS)]\n",
    "\n",
    "questions_df = pd.DataFrame({\n",
    "    'question_id': question_ids,\n",
    "    'user_id': question_user_ids,\n",
    "    'created_at': question_created_at,\n",
    "    'content': question_texts\n",
    "})\n",
    "\n",
    "# Save to CSV\n",
    "questions_df.to_csv('../Mock_Data/mock_questions.csv', index=False)"
   ],
   "id": "201d8358094d37b7",
   "outputs": [],
   "execution_count": 9
  },
  {
   "metadata": {
    "ExecuteTime": {
     "end_time": "2025-06-05T14:07:02.443382Z",
     "start_time": "2025-06-05T14:07:02.418762Z"
    }
   },
   "cell_type": "code",
   "source": [
    "# To ensure each question_id appears at least once, map one answer per question\n",
    "answer_ids = np.arange(1, NUM_ANSWERS + 1)\n",
    "answer_question_ids = question_ids.copy()  # answer_id i corresponds to question_id i\n",
    "answer_user_ids = np.random.randint(1, NUM_USERS + 1, size=NUM_ANSWERS)\n",
    "\n",
    "# Random timestamps for answers\n",
    "random_a_ts = np.random.randint(q_start_ts, q_end_ts + 1, size=NUM_ANSWERS)\n",
    "answer_created_at = pd.to_datetime(random_a_ts, unit='s')\n",
    "\n",
    "# Generate answer content: 1-2 sentences each\n",
    "answer_texts = [fake.paragraph(nb_sentences=np.random.randint(1, 3)) for _ in range(NUM_ANSWERS)]\n",
    "\n",
    "answers_df = pd.DataFrame({\n",
    "    'id': answer_ids,\n",
    "    'question_id': answer_question_ids,\n",
    "    'user_id': answer_user_ids,\n",
    "    'created_at': answer_created_at,\n",
    "    'content': answer_texts\n",
    "})\n",
    "\n",
    "# Save to CSV\n",
    "answers_df.to_csv('../Mock_Data/mock_answers.csv', index=False)"
   ],
   "id": "26a2896e153e4186",
   "outputs": [],
   "execution_count": 12
  },
  {
   "metadata": {
    "ExecuteTime": {
     "end_time": "2025-06-05T14:11:44.993604Z",
     "start_time": "2025-06-05T14:11:44.981700Z"
    }
   },
   "cell_type": "code",
   "source": [
    "sess_start_date = datetime.date(2024, 1, 1)\n",
    "sess_end_date = datetime.date(2024, 12, 31)\n",
    "days_range = (sess_end_date - sess_start_date).days\n",
    "\n",
    "# Use UUIDv4 for session_id\n",
    "session_ids = [str(uuid.uuid4()) for _ in range(NUM_SESSIONS)]\n",
    "session_user_ids = np.random.randint(1, NUM_USERS + 1, size=NUM_SESSIONS)\n",
    "\n",
    "# Generate random session dates\n",
    "random_days = np.random.randint(0, days_range + 1, size=NUM_SESSIONS)\n",
    "session_dates = [sess_start_date + datetime.timedelta(days=int(day)) for day in random_days]\n",
    "\n",
    "# Generate session durations\n",
    "durations = np.round(np.random.uniform(1, 120, size=NUM_SESSIONS), 2)\n",
    "\n",
    "user_sessions_df = pd.DataFrame({\n",
    "    'session_id': session_ids,\n",
    "    'user_id': session_user_ids,\n",
    "    'duration_min': durations,\n",
    "    'session_date': session_dates\n",
    "})\n",
    "\n",
    "user_sessions_df.to_csv('../Mock_Data/mock_user_sessions.csv', index=False)"
   ],
   "id": "c99c1e8c696ad848",
   "outputs": [],
   "execution_count": 17
  },
  {
   "metadata": {
    "ExecuteTime": {
     "end_time": "2025-06-15T14:16:20.997671Z",
     "start_time": "2025-06-15T14:16:18.521977Z"
    }
   },
   "cell_type": "code",
   "source": [
    "from src.agents.data_analysis_agent.subagents.data_availability_checker_agent.agent import read_all_schema_texts\n",
    "print(repr(read_all_schema_texts()[:500]))      # should show the first 500 chars"
   ],
   "id": "6451c2d26d3072aa",
   "outputs": [
    {
     "name": "stdout",
     "output_type": "stream",
     "text": [
      "/Users/raj.vasani/Developer/ADK-Hackathon/configs\n",
      "<map object at 0x11b11f5b0>\n",
      "/Users/raj.vasani/Developer/ADK-Hackathon\n",
      "'Table: mock_user_sessions\\nDescription: Tracks user session activity such as session duration and date. Useful for engagement analysis and retention metrics.\\nColumns:\\n- session_id: Unique identifier for a user session (STRING)\\n- user_id: ID of the user who had the session (INT64)\\n- duration_min: Length of the session in minutes (FLOAT64)\\n- session_date: Date on which the session occurred (DATE)\\n\\nTable: mock_answers\\nDescription: Contains user-submitted answers to questions on the QA platform. Each'\n"
     ]
    }
   ],
   "execution_count": 1
  },
  {
   "metadata": {},
   "cell_type": "code",
   "outputs": [],
   "execution_count": null,
   "source": "",
   "id": "f8b67004f74b5463"
  }
 ],
 "metadata": {
  "kernelspec": {
   "display_name": "Python 3",
   "language": "python",
   "name": "python3"
  },
  "language_info": {
   "codemirror_mode": {
    "name": "ipython",
    "version": 2
   },
   "file_extension": ".py",
   "mimetype": "text/x-python",
   "name": "python",
   "nbconvert_exporter": "python",
   "pygments_lexer": "ipython2",
   "version": "2.7.6"
  }
 },
 "nbformat": 4,
 "nbformat_minor": 5
}
