{
 "cells": [
  {
   "cell_type": "code",
   "id": "initial_id",
   "metadata": {
    "collapsed": true,
    "ExecuteTime": {
     "end_time": "2025-06-06T11:31:52.777397Z",
     "start_time": "2025-06-06T11:31:51.167805Z"
    }
   },
   "source": [
    "from google.cloud import bigquery\n",
    "import json\n",
    "from collections import defaultdict\n",
    "\n",
    "def generate_schema(project_id: str, dataset_id: str, output_file: str = \"../configs/schema.json\"):\n",
    "    client = bigquery.Client(project=project_id)\n",
    "\n",
    "    # Get table descriptions\n",
    "    tables_query = f\"\"\"\n",
    "        SELECT table_name, table_type\n",
    "        FROM `{project_id}.{dataset_id}.INFORMATION_SCHEMA.TABLES`\n",
    "    \"\"\"\n",
    "    tables = client.query(tables_query).result()\n",
    "\n",
    "    # Get column metadata\n",
    "    columns_query = f\"\"\"\n",
    "        SELECT table_name, column_name, data_type\n",
    "        FROM `{project_id}.{dataset_id}.INFORMATION_SCHEMA.COLUMNS`\n",
    "    \"\"\"\n",
    "    columns = client.query(columns_query).result()\n",
    "\n",
    "    schema = defaultdict(lambda: {\"description\": \"\", \"columns\": {}})\n",
    "\n",
    "    for row in tables:\n",
    "        schema[row.table_name][\"description\"] = f\"{row.table_type} in {dataset_id}\"\n",
    "\n",
    "    for row in columns:\n",
    "        schema[row.table_name][\"columns\"][row.column_name] = row.data_type\n",
    "\n",
    "    output = {\"tables\": dict(schema)}\n",
    "\n",
    "    # Write to JSON\n",
    "    with open(output_file, \"w\") as f:\n",
    "        json.dump(output, f, indent=2)\n",
    "\n",
    "    print(f\"✅ Schema metadata saved to {output_file}\")\n",
    "\n",
    "# Example usage:\n",
    "generate_schema(\"adk-hackathon-461216\", \"Mock_KPIs\")"
   ],
   "outputs": [
    {
     "name": "stdout",
     "output_type": "stream",
     "text": [
      "✅ Schema metadata saved to ../configs/schema.json\n"
     ]
    }
   ],
   "execution_count": 3
  },
  {
   "metadata": {},
   "cell_type": "code",
   "outputs": [],
   "execution_count": null,
   "source": "",
   "id": "5f3fabc086b50a78"
  }
 ],
 "metadata": {
  "kernelspec": {
   "display_name": "Python 3",
   "language": "python",
   "name": "python3"
  },
  "language_info": {
   "codemirror_mode": {
    "name": "ipython",
    "version": 2
   },
   "file_extension": ".py",
   "mimetype": "text/x-python",
   "name": "python",
   "nbconvert_exporter": "python",
   "pygments_lexer": "ipython2",
   "version": "2.7.6"
  }
 },
 "nbformat": 4,
 "nbformat_minor": 5
}
